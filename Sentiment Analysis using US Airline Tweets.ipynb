{
 "cells": [
  {
   "cell_type": "markdown",
   "metadata": {},
   "source": [
    "# <center> <font style=\"font-family: 'Times New Roman';font-size:35px\"> Sentiment Analysis using US Airline Tweets </font> </center>"
   ]
  },
  {
   "cell_type": "code",
   "execution_count": 73,
   "metadata": {
    "id": "INsvANBUQ_Nn"
   },
   "outputs": [],
   "source": [
    "# Importing the required libraries\n",
    "import pandas as pd\n",
    "import numpy as np\n",
    "import matplotlib.pyplot as plt\n",
    "import seaborn as sns\n",
    "from sklearn import preprocessing\n",
    "from sklearn.metrics import roc_curve,auc\n",
    "from sklearn.metrics import roc_auc_score\n",
    "from sklearn.model_selection import train_test_split\n",
    "from sklearn.metrics import confusion_matrix\n",
    "from sklearn import metrics\n",
    "from IPython.display import display\n",
    "import warnings\n",
    "warnings.filterwarnings(\"ignore\")\n",
    "import nltk\n",
    "from nltk.tokenize import sent_tokenize, word_tokenize\n",
    "from sklearn.feature_extraction.text import TfidfTransformer\n",
    "from sklearn.feature_extraction.text import TfidfVectorizer\n",
    "from sklearn.feature_extraction.text import CountVectorizer\n",
    "from sklearn.naive_bayes import  MultinomialNB\n",
    "import re\n",
    "from nltk.corpus import stopwords\n",
    "from nltk.stem import PorterStemmer\n",
    "from nltk.stem.wordnet import WordNetLemmatizer"
   ]
  },
  {
   "cell_type": "code",
   "execution_count": 74,
   "metadata": {
    "colab": {
     "base_uri": "https://localhost:8080/"
    },
    "id": "SprjMwDzqVSb",
    "outputId": "84eb3dfa-dcf6-4395-c9b6-6a6df055500e"
   },
   "outputs": [
    {
     "name": "stdout",
     "output_type": "stream",
     "text": [
      "[nltk_data] Downloading package punkt to\n",
      "[nltk_data]     C:\\Users\\hp\\AppData\\Roaming\\nltk_data...\n",
      "[nltk_data]   Package punkt is already up-to-date!\n"
     ]
    },
    {
     "data": {
      "text/plain": [
       "True"
      ]
     },
     "execution_count": 74,
     "metadata": {},
     "output_type": "execute_result"
    }
   ],
   "source": [
    "nltk.download('punkt')"
   ]
  },
  {
   "cell_type": "code",
   "execution_count": 75,
   "metadata": {
    "colab": {
     "base_uri": "https://localhost:8080/"
    },
    "id": "EVXVyNxcRpfk",
    "outputId": "584512b9-b56e-49a7-c2ba-02cc40ee832f"
   },
   "outputs": [
    {
     "name": "stdout",
     "output_type": "stream",
     "text": [
      "[nltk_data] Downloading package stopwords to\n",
      "[nltk_data]     C:\\Users\\hp\\AppData\\Roaming\\nltk_data...\n",
      "[nltk_data]   Package stopwords is already up-to-date!\n"
     ]
    },
    {
     "data": {
      "text/plain": [
       "True"
      ]
     },
     "execution_count": 75,
     "metadata": {},
     "output_type": "execute_result"
    }
   ],
   "source": [
    "nltk.download('stopwords')"
   ]
  },
  {
   "cell_type": "code",
   "execution_count": 76,
   "metadata": {
    "colab": {
     "base_uri": "https://localhost:8080/"
    },
    "id": "UMP1AoqeqmvQ",
    "outputId": "6f973810-d244-4efe-e3de-2f42f2695370"
   },
   "outputs": [
    {
     "name": "stdout",
     "output_type": "stream",
     "text": [
      "[nltk_data] Downloading package wordnet to\n",
      "[nltk_data]     C:\\Users\\hp\\AppData\\Roaming\\nltk_data...\n",
      "[nltk_data]   Package wordnet is already up-to-date!\n",
      "[nltk_data] Downloading package averaged_perceptron_tagger to\n",
      "[nltk_data]     C:\\Users\\hp\\AppData\\Roaming\\nltk_data...\n",
      "[nltk_data]   Package averaged_perceptron_tagger is already up-to-\n",
      "[nltk_data]       date!\n"
     ]
    },
    {
     "data": {
      "text/plain": [
       "True"
      ]
     },
     "execution_count": 76,
     "metadata": {},
     "output_type": "execute_result"
    }
   ],
   "source": [
    "nltk.download('wordnet')\n",
    "nltk.download('averaged_perceptron_tagger')"
   ]
  },
  {
   "cell_type": "code",
   "execution_count": 77,
   "metadata": {
    "colab": {
     "base_uri": "https://localhost:8080/",
     "height": 445
    },
    "id": "b1kzCWEXt4Gc",
    "outputId": "8d3f67ea-2f7e-4ba8-c5c6-431eb58556ce"
   },
   "outputs": [
    {
     "data": {
      "text/html": [
       "<div>\n",
       "<style scoped>\n",
       "    .dataframe tbody tr th:only-of-type {\n",
       "        vertical-align: middle;\n",
       "    }\n",
       "\n",
       "    .dataframe tbody tr th {\n",
       "        vertical-align: top;\n",
       "    }\n",
       "\n",
       "    .dataframe thead th {\n",
       "        text-align: right;\n",
       "    }\n",
       "</style>\n",
       "<table border=\"1\" class=\"dataframe\">\n",
       "  <thead>\n",
       "    <tr style=\"text-align: right;\">\n",
       "      <th></th>\n",
       "      <th>tweet_id</th>\n",
       "      <th>airline_sentiment</th>\n",
       "      <th>airline_sentiment_confidence</th>\n",
       "      <th>negativereason</th>\n",
       "      <th>negativereason_confidence</th>\n",
       "      <th>airline</th>\n",
       "      <th>airline_sentiment_gold</th>\n",
       "      <th>name</th>\n",
       "      <th>negativereason_gold</th>\n",
       "      <th>retweet_count</th>\n",
       "      <th>text</th>\n",
       "      <th>tweet_coord</th>\n",
       "      <th>tweet_created</th>\n",
       "      <th>tweet_location</th>\n",
       "      <th>user_timezone</th>\n",
       "    </tr>\n",
       "  </thead>\n",
       "  <tbody>\n",
       "    <tr>\n",
       "      <th>0</th>\n",
       "      <td>570306133677760513</td>\n",
       "      <td>neutral</td>\n",
       "      <td>1.0000</td>\n",
       "      <td>NaN</td>\n",
       "      <td>NaN</td>\n",
       "      <td>Virgin America</td>\n",
       "      <td>NaN</td>\n",
       "      <td>cairdin</td>\n",
       "      <td>NaN</td>\n",
       "      <td>0</td>\n",
       "      <td>@VirginAmerica What @dhepburn said.</td>\n",
       "      <td>NaN</td>\n",
       "      <td>2015-02-24 11:35:52 -0800</td>\n",
       "      <td>NaN</td>\n",
       "      <td>Eastern Time (US &amp; Canada)</td>\n",
       "    </tr>\n",
       "    <tr>\n",
       "      <th>1</th>\n",
       "      <td>570301130888122368</td>\n",
       "      <td>positive</td>\n",
       "      <td>0.3486</td>\n",
       "      <td>NaN</td>\n",
       "      <td>0.0000</td>\n",
       "      <td>Virgin America</td>\n",
       "      <td>NaN</td>\n",
       "      <td>jnardino</td>\n",
       "      <td>NaN</td>\n",
       "      <td>0</td>\n",
       "      <td>@VirginAmerica plus you've added commercials t...</td>\n",
       "      <td>NaN</td>\n",
       "      <td>2015-02-24 11:15:59 -0800</td>\n",
       "      <td>NaN</td>\n",
       "      <td>Pacific Time (US &amp; Canada)</td>\n",
       "    </tr>\n",
       "    <tr>\n",
       "      <th>2</th>\n",
       "      <td>570301083672813571</td>\n",
       "      <td>neutral</td>\n",
       "      <td>0.6837</td>\n",
       "      <td>NaN</td>\n",
       "      <td>NaN</td>\n",
       "      <td>Virgin America</td>\n",
       "      <td>NaN</td>\n",
       "      <td>yvonnalynn</td>\n",
       "      <td>NaN</td>\n",
       "      <td>0</td>\n",
       "      <td>@VirginAmerica I didn't today... Must mean I n...</td>\n",
       "      <td>NaN</td>\n",
       "      <td>2015-02-24 11:15:48 -0800</td>\n",
       "      <td>Lets Play</td>\n",
       "      <td>Central Time (US &amp; Canada)</td>\n",
       "    </tr>\n",
       "    <tr>\n",
       "      <th>3</th>\n",
       "      <td>570301031407624196</td>\n",
       "      <td>negative</td>\n",
       "      <td>1.0000</td>\n",
       "      <td>Bad Flight</td>\n",
       "      <td>0.7033</td>\n",
       "      <td>Virgin America</td>\n",
       "      <td>NaN</td>\n",
       "      <td>jnardino</td>\n",
       "      <td>NaN</td>\n",
       "      <td>0</td>\n",
       "      <td>@VirginAmerica it's really aggressive to blast...</td>\n",
       "      <td>NaN</td>\n",
       "      <td>2015-02-24 11:15:36 -0800</td>\n",
       "      <td>NaN</td>\n",
       "      <td>Pacific Time (US &amp; Canada)</td>\n",
       "    </tr>\n",
       "    <tr>\n",
       "      <th>4</th>\n",
       "      <td>570300817074462722</td>\n",
       "      <td>negative</td>\n",
       "      <td>1.0000</td>\n",
       "      <td>Can't Tell</td>\n",
       "      <td>1.0000</td>\n",
       "      <td>Virgin America</td>\n",
       "      <td>NaN</td>\n",
       "      <td>jnardino</td>\n",
       "      <td>NaN</td>\n",
       "      <td>0</td>\n",
       "      <td>@VirginAmerica and it's a really big bad thing...</td>\n",
       "      <td>NaN</td>\n",
       "      <td>2015-02-24 11:14:45 -0800</td>\n",
       "      <td>NaN</td>\n",
       "      <td>Pacific Time (US &amp; Canada)</td>\n",
       "    </tr>\n",
       "  </tbody>\n",
       "</table>\n",
       "</div>"
      ],
      "text/plain": [
       "             tweet_id airline_sentiment  airline_sentiment_confidence  \\\n",
       "0  570306133677760513           neutral                        1.0000   \n",
       "1  570301130888122368          positive                        0.3486   \n",
       "2  570301083672813571           neutral                        0.6837   \n",
       "3  570301031407624196          negative                        1.0000   \n",
       "4  570300817074462722          negative                        1.0000   \n",
       "\n",
       "  negativereason  negativereason_confidence         airline  \\\n",
       "0            NaN                        NaN  Virgin America   \n",
       "1            NaN                     0.0000  Virgin America   \n",
       "2            NaN                        NaN  Virgin America   \n",
       "3     Bad Flight                     0.7033  Virgin America   \n",
       "4     Can't Tell                     1.0000  Virgin America   \n",
       "\n",
       "  airline_sentiment_gold        name negativereason_gold  retweet_count  \\\n",
       "0                    NaN     cairdin                 NaN              0   \n",
       "1                    NaN    jnardino                 NaN              0   \n",
       "2                    NaN  yvonnalynn                 NaN              0   \n",
       "3                    NaN    jnardino                 NaN              0   \n",
       "4                    NaN    jnardino                 NaN              0   \n",
       "\n",
       "                                                text tweet_coord  \\\n",
       "0                @VirginAmerica What @dhepburn said.         NaN   \n",
       "1  @VirginAmerica plus you've added commercials t...         NaN   \n",
       "2  @VirginAmerica I didn't today... Must mean I n...         NaN   \n",
       "3  @VirginAmerica it's really aggressive to blast...         NaN   \n",
       "4  @VirginAmerica and it's a really big bad thing...         NaN   \n",
       "\n",
       "               tweet_created tweet_location               user_timezone  \n",
       "0  2015-02-24 11:35:52 -0800            NaN  Eastern Time (US & Canada)  \n",
       "1  2015-02-24 11:15:59 -0800            NaN  Pacific Time (US & Canada)  \n",
       "2  2015-02-24 11:15:48 -0800      Lets Play  Central Time (US & Canada)  \n",
       "3  2015-02-24 11:15:36 -0800            NaN  Pacific Time (US & Canada)  \n",
       "4  2015-02-24 11:14:45 -0800            NaN  Pacific Time (US & Canada)  "
      ]
     },
     "execution_count": 77,
     "metadata": {},
     "output_type": "execute_result"
    }
   ],
   "source": [
    "# Reading the dataframe\n",
    "df = pd.read_csv('Tweets.csv')\n",
    "df.head()"
   ]
  },
  {
   "cell_type": "code",
   "execution_count": 78,
   "metadata": {},
   "outputs": [
    {
     "data": {
      "text/plain": [
       "(14640, 15)"
      ]
     },
     "execution_count": 78,
     "metadata": {},
     "output_type": "execute_result"
    }
   ],
   "source": [
    "df.shape"
   ]
  },
  {
   "cell_type": "markdown",
   "metadata": {},
   "source": [
    "# <font style=\"font-family: 'Times New Roman';font-size:35px\"> Exploratory data analysis </font>"
   ]
  },
  {
   "cell_type": "code",
   "execution_count": 79,
   "metadata": {},
   "outputs": [
    {
     "data": {
      "image/png": "[encoded data removed]",
      "text/plain": [
       "<Figure size 432x288 with 1 Axes>"
      ]
     },
     "metadata": {},
     "output_type": "display_data"
    }
   ],
   "source": [
    "# Pie chart for airline sentiments\n",
    "data = df.groupby('airline_sentiment').agg('count')\n",
    "plt.pie(data.tweet_id.sort_values(), labels = data.tweet_id.sort_values().index,autopct = '%1.1f%%', shadow = True)\n",
    "plt.title(\"Pie Chart of Sentiments of tweets\")\n",
    "plt.show()"
   ]
  },
  {
   "cell_type": "markdown",
   "metadata": {},
   "source": [
    "### Observations:\n",
    "\n",
    "### 1.There are more negative sentiments than positve and neutral combined.\n",
    "\n",
    "### 2.There are more neutral sentiments than positive sentiments.\n",
    "\n",
    "### 3.It might be because people feel the need to express themselves more when they have a bad experience than a good experience."
   ]
  },
  {
   "cell_type": "code",
   "execution_count": 80,
   "metadata": {},
   "outputs": [
    {
     "data": {
      "text/plain": [
       "Text(0.5, 1.0, 'Number of tweets for every Airline')"
      ]
     },
     "execution_count": 80,
     "metadata": {},
     "output_type": "execute_result"
    },
    {
     "data": {
      "image/png": "[encoded data removed]",
      "text/plain": [
       "<Figure size 432x288 with 1 Axes>"
      ]
     },
     "metadata": {},
     "output_type": "display_data"
    }
   ],
   "source": [
    "# Bar chart of the number of tweets for every airline\n",
    "sns.countplot(data=df,y=df['airline'],order = df['airline'].value_counts().index).set_title('Number of tweets for every Airline')"
   ]
  },
  {
   "cell_type": "markdown",
   "metadata": {},
   "source": [
    "### Observations:\n",
    "\n",
    "### 1.United Airline has maximum number of tweets.\n",
    "\n",
    "### 2.Virgin America Airline has minimum number of tweets."
   ]
  },
  {
   "cell_type": "code",
   "execution_count": 81,
   "metadata": {},
   "outputs": [
    {
     "data": {
      "text/plain": [
       "Text(0.5, 1.0, 'Number of tweets for every Airline with sentiment distribution')"
      ]
     },
     "execution_count": 81,
     "metadata": {},
     "output_type": "execute_result"
    },
    {
     "data": {
      "image/png": "[encoded data removed]",
      "text/plain": [
       "<Figure size 432x288 with 1 Axes>"
      ]
     },
     "metadata": {},
     "output_type": "display_data"
    }
   ],
   "source": [
    "# Stacked bar chart of number of tweets for every Airline with sentiment distribution\n",
    "types = df.groupby(\"airline\")['airline_sentiment'].value_counts(normalize=False).sort_index()\n",
    "types.unstack().plot(kind='barh', stacked='True')\n",
    "plt.legend(bbox_to_anchor=(1.5, 1), loc='upper right')\n",
    "plt.xlabel(\"Number of tweets\")\n",
    "plt.title(\"Number of tweets for every Airline with sentiment distribution\")"
   ]
  },
  {
   "cell_type": "markdown",
   "metadata": {},
   "source": [
    "### Observations:\n",
    "\n",
    "### 1.United Airways, US Airways and American Airways has more number of negative tweets than neutral and positive combined.\n",
    "\n",
    "### 2.Virgin America Airline has almost similar number of negative, neutral and positive tweets."
   ]
  },
  {
   "cell_type": "code",
   "execution_count": 82,
   "metadata": {
    "colab": {
     "base_uri": "https://localhost:8080/"
    },
    "id": "427Q0CKLUk8x",
    "outputId": "15280e9f-b626-47bb-bccd-8e38ab067529"
   },
   "outputs": [
    {
     "data": {
      "text/plain": [
       "0    9178\n",
       "1    3099\n",
       "2    2363\n",
       "Name: Sentiment, dtype: int64"
      ]
     },
     "execution_count": 82,
     "metadata": {},
     "output_type": "execute_result"
    }
   ],
   "source": [
    "# Setting the negative sentiments to 0, neutral to 1 and positive to 2\n",
    "def partition(x):\n",
    "    if x =='negative':\n",
    "        return 0\n",
    "    elif x =='neutral':\n",
    "        return 1\n",
    "    elif x =='positive':\n",
    "        return 2\n",
    "actualSentiment = df['airline_sentiment']\n",
    "positiveNegative = actualSentiment.map(partition) \n",
    "df['Sentiment'] = positiveNegative\n",
    "df['Sentiment'].value_counts() "
   ]
  },
  {
   "cell_type": "code",
   "execution_count": 83,
   "metadata": {
    "colab": {
     "base_uri": "https://localhost:8080/",
     "height": 462
    },
    "id": "vQQ4U9iRl17E",
    "outputId": "3ea6eeff-e4e1-44a0-ecf5-34629dceb8ae"
   },
   "outputs": [
    {
     "data": {
      "text/html": [
       "<div>\n",
       "<style scoped>\n",
       "    .dataframe tbody tr th:only-of-type {\n",
       "        vertical-align: middle;\n",
       "    }\n",
       "\n",
       "    .dataframe tbody tr th {\n",
       "        vertical-align: top;\n",
       "    }\n",
       "\n",
       "    .dataframe thead th {\n",
       "        text-align: right;\n",
       "    }\n",
       "</style>\n",
       "<table border=\"1\" class=\"dataframe\">\n",
       "  <thead>\n",
       "    <tr style=\"text-align: right;\">\n",
       "      <th></th>\n",
       "      <th>tweet_id</th>\n",
       "      <th>airline_sentiment</th>\n",
       "      <th>airline_sentiment_confidence</th>\n",
       "      <th>negativereason</th>\n",
       "      <th>negativereason_confidence</th>\n",
       "      <th>airline</th>\n",
       "      <th>airline_sentiment_gold</th>\n",
       "      <th>name</th>\n",
       "      <th>negativereason_gold</th>\n",
       "      <th>retweet_count</th>\n",
       "      <th>text</th>\n",
       "      <th>tweet_coord</th>\n",
       "      <th>tweet_created</th>\n",
       "      <th>tweet_location</th>\n",
       "      <th>user_timezone</th>\n",
       "      <th>Sentiment</th>\n",
       "    </tr>\n",
       "  </thead>\n",
       "  <tbody>\n",
       "    <tr>\n",
       "      <th>0</th>\n",
       "      <td>570306133677760513</td>\n",
       "      <td>neutral</td>\n",
       "      <td>1.0000</td>\n",
       "      <td>NaN</td>\n",
       "      <td>NaN</td>\n",
       "      <td>Virgin America</td>\n",
       "      <td>NaN</td>\n",
       "      <td>cairdin</td>\n",
       "      <td>NaN</td>\n",
       "      <td>0</td>\n",
       "      <td>@VirginAmerica What @dhepburn said.</td>\n",
       "      <td>NaN</td>\n",
       "      <td>2015-02-24 11:35:52 -0800</td>\n",
       "      <td>NaN</td>\n",
       "      <td>Eastern Time (US &amp; Canada)</td>\n",
       "      <td>1</td>\n",
       "    </tr>\n",
       "    <tr>\n",
       "      <th>1</th>\n",
       "      <td>570301130888122368</td>\n",
       "      <td>positive</td>\n",
       "      <td>0.3486</td>\n",
       "      <td>NaN</td>\n",
       "      <td>0.0000</td>\n",
       "      <td>Virgin America</td>\n",
       "      <td>NaN</td>\n",
       "      <td>jnardino</td>\n",
       "      <td>NaN</td>\n",
       "      <td>0</td>\n",
       "      <td>@VirginAmerica plus you've added commercials t...</td>\n",
       "      <td>NaN</td>\n",
       "      <td>2015-02-24 11:15:59 -0800</td>\n",
       "      <td>NaN</td>\n",
       "      <td>Pacific Time (US &amp; Canada)</td>\n",
       "      <td>2</td>\n",
       "    </tr>\n",
       "    <tr>\n",
       "      <th>2</th>\n",
       "      <td>570301083672813571</td>\n",
       "      <td>neutral</td>\n",
       "      <td>0.6837</td>\n",
       "      <td>NaN</td>\n",
       "      <td>NaN</td>\n",
       "      <td>Virgin America</td>\n",
       "      <td>NaN</td>\n",
       "      <td>yvonnalynn</td>\n",
       "      <td>NaN</td>\n",
       "      <td>0</td>\n",
       "      <td>@VirginAmerica I didn't today... Must mean I n...</td>\n",
       "      <td>NaN</td>\n",
       "      <td>2015-02-24 11:15:48 -0800</td>\n",
       "      <td>Lets Play</td>\n",
       "      <td>Central Time (US &amp; Canada)</td>\n",
       "      <td>1</td>\n",
       "    </tr>\n",
       "    <tr>\n",
       "      <th>3</th>\n",
       "      <td>570301031407624196</td>\n",
       "      <td>negative</td>\n",
       "      <td>1.0000</td>\n",
       "      <td>Bad Flight</td>\n",
       "      <td>0.7033</td>\n",
       "      <td>Virgin America</td>\n",
       "      <td>NaN</td>\n",
       "      <td>jnardino</td>\n",
       "      <td>NaN</td>\n",
       "      <td>0</td>\n",
       "      <td>@VirginAmerica it's really aggressive to blast...</td>\n",
       "      <td>NaN</td>\n",
       "      <td>2015-02-24 11:15:36 -0800</td>\n",
       "      <td>NaN</td>\n",
       "      <td>Pacific Time (US &amp; Canada)</td>\n",
       "      <td>0</td>\n",
       "    </tr>\n",
       "    <tr>\n",
       "      <th>4</th>\n",
       "      <td>570300817074462722</td>\n",
       "      <td>negative</td>\n",
       "      <td>1.0000</td>\n",
       "      <td>Can't Tell</td>\n",
       "      <td>1.0000</td>\n",
       "      <td>Virgin America</td>\n",
       "      <td>NaN</td>\n",
       "      <td>jnardino</td>\n",
       "      <td>NaN</td>\n",
       "      <td>0</td>\n",
       "      <td>@VirginAmerica and it's a really big bad thing...</td>\n",
       "      <td>NaN</td>\n",
       "      <td>2015-02-24 11:14:45 -0800</td>\n",
       "      <td>NaN</td>\n",
       "      <td>Pacific Time (US &amp; Canada)</td>\n",
       "      <td>0</td>\n",
       "    </tr>\n",
       "  </tbody>\n",
       "</table>\n",
       "</div>"
      ],
      "text/plain": [
       "             tweet_id airline_sentiment  airline_sentiment_confidence  \\\n",
       "0  570306133677760513           neutral                        1.0000   \n",
       "1  570301130888122368          positive                        0.3486   \n",
       "2  570301083672813571           neutral                        0.6837   \n",
       "3  570301031407624196          negative                        1.0000   \n",
       "4  570300817074462722          negative                        1.0000   \n",
       "\n",
       "  negativereason  negativereason_confidence         airline  \\\n",
       "0            NaN                        NaN  Virgin America   \n",
       "1            NaN                     0.0000  Virgin America   \n",
       "2            NaN                        NaN  Virgin America   \n",
       "3     Bad Flight                     0.7033  Virgin America   \n",
       "4     Can't Tell                     1.0000  Virgin America   \n",
       "\n",
       "  airline_sentiment_gold        name negativereason_gold  retweet_count  \\\n",
       "0                    NaN     cairdin                 NaN              0   \n",
       "1                    NaN    jnardino                 NaN              0   \n",
       "2                    NaN  yvonnalynn                 NaN              0   \n",
       "3                    NaN    jnardino                 NaN              0   \n",
       "4                    NaN    jnardino                 NaN              0   \n",
       "\n",
       "                                                text tweet_coord  \\\n",
       "0                @VirginAmerica What @dhepburn said.         NaN   \n",
       "1  @VirginAmerica plus you've added commercials t...         NaN   \n",
       "2  @VirginAmerica I didn't today... Must mean I n...         NaN   \n",
       "3  @VirginAmerica it's really aggressive to blast...         NaN   \n",
       "4  @VirginAmerica and it's a really big bad thing...         NaN   \n",
       "\n",
       "               tweet_created tweet_location               user_timezone  \\\n",
       "0  2015-02-24 11:35:52 -0800            NaN  Eastern Time (US & Canada)   \n",
       "1  2015-02-24 11:15:59 -0800            NaN  Pacific Time (US & Canada)   \n",
       "2  2015-02-24 11:15:48 -0800      Lets Play  Central Time (US & Canada)   \n",
       "3  2015-02-24 11:15:36 -0800            NaN  Pacific Time (US & Canada)   \n",
       "4  2015-02-24 11:14:45 -0800            NaN  Pacific Time (US & Canada)   \n",
       "\n",
       "   Sentiment  \n",
       "0          1  \n",
       "1          2  \n",
       "2          1  \n",
       "3          0  \n",
       "4          0  "
      ]
     },
     "execution_count": 83,
     "metadata": {},
     "output_type": "execute_result"
    }
   ],
   "source": [
    "df.head()"
   ]
  },
  {
   "cell_type": "markdown",
   "metadata": {},
   "source": [
    "# <font style=\"font-family: 'Times New Roman';font-size:35px\"> Data cleaning/Tweets preprocessing </font>"
   ]
  },
  {
   "cell_type": "code",
   "execution_count": 84,
   "metadata": {
    "id": "TCKuj2QT3bAp"
   },
   "outputs": [],
   "source": [
    "# tweets consists of every tweet as an array of tokenized words which are later appended to docs \n",
    "tweets=[word_tokenize(tweet) for tweet in df['text']]\n",
    "docs=[]\n",
    "for j in range(0,len(tweets)):\n",
    "    docs.append(tweets[j])"
   ]
  },
  {
   "cell_type": "code",
   "execution_count": 85,
   "metadata": {
    "id": "IY91D9RQ3bDS"
   },
   "outputs": [],
   "source": [
    "# stops includes both the stopwords and punctuations\n",
    "from nltk.corpus import stopwords\n",
    "import string\n",
    "stops = set(stopwords.words('english'))\n",
    "punctuations = list(string.punctuation)\n",
    "stops.update(punctuations)"
   ]
  },
  {
   "cell_type": "code",
   "execution_count": 86,
   "metadata": {
    "id": "MxqkEQr83bHI"
   },
   "outputs": [],
   "source": [
    "#to get the simple pos(part of speech) tag\n",
    "from nltk.corpus import wordnet\n",
    "def get_simple_pos(tag):\n",
    "    if tag.startswith('J'):\n",
    "        return wordnet.ADJ\n",
    "    elif tag.startswith('V'):\n",
    "        return wordnet.VERB\n",
    "    elif tag.startswith('N'):\n",
    "        return wordnet.NOUN\n",
    "    elif tag.startswith('R'):\n",
    "        return wordnet.ADV\n",
    "    else:\n",
    "        return wordnet.NOUN"
   ]
  },
  {
   "cell_type": "code",
   "execution_count": 87,
   "metadata": {
    "id": "XYzWrBBK4BEL"
   },
   "outputs": [],
   "source": [
    "# To get the pos tag for a word\n",
    "from nltk import pos_tag\n",
    "# now we are going to clean our data \n",
    "# we will remove stopwords and punctuations and lemmatize each document\n",
    "from nltk.stem import WordNetLemmatizer\n",
    "lemmatizer=WordNetLemmatizer()\n",
    "def clean(words):\n",
    "    output=[]\n",
    "    for word in words:\n",
    "        if word.lower() not in stops:\n",
    "            tokens = nltk.word_tokenize(word)\n",
    "            pos=pos_tag(tokens)\n",
    "            clean_word=lemmatizer.lemmatize(word,pos=get_simple_pos(pos[0][1]))\n",
    "            output.append(clean_word.lower())\n",
    "    str1=\" \".join(output).encode('utf-8')        \n",
    "    return str1\n",
    "docs=[ clean(doc) for doc in docs]      "
   ]
  },
  {
   "cell_type": "code",
   "execution_count": 88,
   "metadata": {
    "colab": {
     "base_uri": "https://localhost:8080/"
    },
    "id": "i9FJX1MT4BHf",
    "outputId": "52ebd4b7-e9a8-4cc1-bddc-0814ef06721f"
   },
   "outputs": [
    {
     "data": {
      "text/plain": [
       "[b'virginamerica dhepburn say',\n",
       " b\"virginamerica plus 've add commercial experience ... tacky\",\n",
       " b\"virginamerica n't today ... must mean need take another trip\",\n",
       " b\"virginamerica 's really aggressive blast obnoxious `` entertainment '' guest face amp little recourse\",\n",
       " b\"virginamerica 's really big bad thing\"]"
      ]
     },
     "execution_count": 88,
     "metadata": {},
     "output_type": "execute_result"
    }
   ],
   "source": [
    "# Let's look at how our texts look after cleaning\n",
    "docs[:5]"
   ]
  },
  {
   "cell_type": "markdown",
   "metadata": {},
   "source": [
    "# <font style=\"font-family: 'Times New Roman';font-size:35px\"> Splitting the data into train and test sets </font>"
   ]
  },
  {
   "cell_type": "code",
   "execution_count": 89,
   "metadata": {
    "id": "z55Pb6CbecfX"
   },
   "outputs": [],
   "source": [
    "# Taking the clean text as independent varaible and the predicted sentiments as the dependent variable \n",
    "X = np.array(docs)\n",
    "Y = np.array(df['Sentiment'])\n",
    "# splitting into train-test-validation set\n",
    "X_train, X_test, Y_train, Y_test = train_test_split(X, Y, test_size=.33, random_state=0)\n",
    "X_tr, X_cv, Y_tr, Y_cv = train_test_split(X_train, Y_train, test_size=.2, random_state=0)"
   ]
  },
  {
   "cell_type": "code",
   "execution_count": 90,
   "metadata": {
    "colab": {
     "base_uri": "https://localhost:8080/"
    },
    "id": "_KuiVsbZ6i7w",
    "outputId": "91978ab4-c98d-4fa9-ebbb-cbca4f5dd938"
   },
   "outputs": [
    {
     "name": "stdout",
     "output_type": "stream",
     "text": [
      "X_train, Y_train (9808,) (9808,)\n",
      "X_test, Y_test (4832,) (4832,)\n",
      "X_tr, Y_tr (7846,) (7846,)\n",
      "X_cv, Y_cv (1962,) (1962,)\n"
     ]
    }
   ],
   "source": [
    "# Looking at the shapes of each of the training, test and validation sets \n",
    "print('X_train, Y_train', X_train.shape, Y_train.shape)\n",
    "print('X_test, Y_test', X_test.shape, Y_test.shape)\n",
    "print('X_tr, Y_tr', X_tr.shape, Y_tr.shape)\n",
    "print('X_cv, Y_cv', X_cv.shape, Y_cv.shape)"
   ]
  },
  {
   "cell_type": "markdown",
   "metadata": {
    "colab": {
     "base_uri": "https://localhost:8080/"
    },
    "id": "1aMaBIKf0OIU",
    "outputId": "3693cdd3-501e-40d6-998b-383c11ac6db3"
   },
   "source": [
    "# <font style=\"font-family: 'Times New Roman';font-size:35px\"> Defining functions to evaluate the models </font>"
   ]
  },
  {
   "cell_type": "code",
   "execution_count": 91,
   "metadata": {},
   "outputs": [],
   "source": [
    "def mulnb(X_train,X_cv,Y_train,Y_cv):\n",
    "    best_alpha=0\n",
    "    max_roc_auc=-1\n",
    "    # Appending auc scores of cross validation and training set in the below arrays respectively\n",
    "    pred_cv = []\n",
    "    pred_train = []\n",
    "    alpha=[100,50,10,5,1,0.5,0.1,0.05,0.01,0.005] \n",
    "    for i in alpha[-10:]:\n",
    "        mulbnb = MultinomialNB(alpha=i)\n",
    "        mulbnb.fit(X_train,Y_train)\n",
    "        probs = mulbnb.predict_proba(X_cv)\n",
    "        prob = mulbnb.predict_proba(X_train)\n",
    "        weighted_roc_auc_ovo_cv = roc_auc_score(Y_cv,probs, multi_class=\"ovr\",\n",
    "                                     average=\"weighted\")\n",
    "        weighted_roc_auc_ovo_train = roc_auc_score(Y_train,prob, multi_class=\"ovr\",\n",
    "                                     average=\"weighted\")\n",
    "        print(i,\" ------> \",weighted_roc_auc_ovo_cv)\n",
    "        pred_cv.append(weighted_roc_auc_ovo_cv)\n",
    "        pred_train.append(weighted_roc_auc_ovo_train)\n",
    "        if(max_roc_auc<weighted_roc_auc_ovo_cv):\n",
    "            max_roc_auc=weighted_roc_auc_ovo_cv\n",
    "            best_alpha=i\n",
    "    print(f\"\\n Best alpha Value is {best_alpha} with highest roc_auc Score {max_roc_auc}\")\n",
    "    sns.set_style(\"darkgrid\")\n",
    "    plt.xscale('log')\n",
    "    plt.plot(alpha, pred_cv,'r-', label = 'CV Data')\n",
    "    plt.plot(alpha,pred_train,'g-', label ='Train Data')\n",
    "    plt.legend(loc='upper right')\n",
    "    plt.title(r'Auc Score v/s $\\alpha$')\n",
    "    plt.xlabel(r\"alpha values\",fontsize=12)\n",
    "    plt.ylabel(\"roc_auc\",fontsize=12)\n",
    "    plt.show()"
   ]
  },
  {
   "cell_type": "code",
   "execution_count": 92,
   "metadata": {},
   "outputs": [],
   "source": [
    "#The below two lists are created to store auc and f1 scores respectively for both the vectorizations we are going to use \n",
    "AUC,F1=[],[]\n",
    "def testing(X_train,Y_train,X_test,Y_test,optimal_alpha):\n",
    "    bnb = MultinomialNB(optimal_alpha,fit_prior=True, class_prior=None)\n",
    "    bnb.fit(X_train,Y_train)\n",
    "    probs = bnb.predict_proba(X_test) \n",
    "    print(\"AUC Score\",roc_auc_score(Y_test,probs, multi_class=\"ovr\",\n",
    "                                     average=\"weighted\"))\n",
    "    AUC.append(round(roc_auc_score(Y_test,probs, multi_class=\"ovr\",\n",
    "                                     average=\"weighted\"),2))\n",
    "    prediction=bnb.predict(X_test)\n",
    "    cm=confusion_matrix(Y_test,prediction)\n",
    "    cm1 = pd.DataFrame(cm , index = ['positive','neutral','negative'] , columns = ['positive','neutral','negative'])\n",
    "    plt.figure(figsize = (10,10))\n",
    "    ax=sns.heatmap(cm1,cmap= \"Blues\", linecolor = 'black' , linewidth = 1 , annot = True, fmt='')\n",
    "    ax.set(xlabel=\"Actual Sentiment\", ylabel = \"Predicted Sentiment\")\n",
    "    # Printing f1 score and hamming loss\n",
    "    print(\"f1 score for data :\",metrics.f1_score(Y_test, prediction, average='weighted'))\n",
    "    F1.append(round(metrics.f1_score(Y_test, prediction, average='micro'),2))\n",
    "    print(\"Hamming loss for data:\",metrics.hamming_loss(Y_test,prediction))\n",
    "    print(\"Precision recall report for data:\\n\",metrics.classification_report(Y_test, prediction))"
   ]
  },
  {
   "cell_type": "markdown",
   "metadata": {},
   "source": [
    "# <font style=\"font-family: 'Times New Roman';font-size:35px\"> Bag Of Words Vectorization </font>"
   ]
  },
  {
   "cell_type": "code",
   "execution_count": 93,
   "metadata": {
    "colab": {
     "base_uri": "https://localhost:8080/"
    },
    "id": "KsfOPlqsTbv2",
    "outputId": "73582555-60c2-400c-ab7e-c2c3abebda7e"
   },
   "outputs": [
    {
     "name": "stdout",
     "output_type": "stream",
     "text": [
      "Top 20 words with their frequencies in training set are [('flight', 2410), ('united', 2272), ('usairways', 1611), ('americanair', 1599), ('southwestair', 1293), ('jetblue', 1254), ('get', 1089), ('co', 654), ('http', 652), ('http co', 652), ('hour', 632), ('thanks', 601), ('cancelled', 587), ('service', 555), ('help', 532), ('time', 523), ('customer', 512), ('call', 413), ('bag', 409), ('plane', 390)]\n",
      "The type of count vectorizer  <class 'scipy.sparse.csr.csr_matrix'>\n",
      "The shape of out text BOW vectorizer  (7846, 61280)\n",
      "CV Data Size:  (1962, 61280)\n",
      "Test Data Size:  (4832, 61280)\n"
     ]
    }
   ],
   "source": [
    "# Bag Of Words Vectorization with unigrams and bigrams\n",
    "count_vect = CountVectorizer(ngram_range=(1,2)) #in scikit-learn\n",
    "bow= count_vect.fit(X_tr)\n",
    "bow_train = bow.transform(X_tr)\n",
    "sum_words = bow_train.sum(axis=0) \n",
    "words_freq = [(word, sum_words[0, idx]) for word, idx in bow.vocabulary_.items()]\n",
    "words_freq =sorted(words_freq, key = lambda x: x[1], reverse=True)\n",
    "print(\"Top 20 words with their frequencies in training set are\",words_freq[:20])\n",
    "print(\"The type of count vectorizer \",type(bow_train))\n",
    "print(\"The shape of out text BOW vectorizer \",bow_train.get_shape())\n",
    "bow_cv = count_vect.transform(X_cv)\n",
    "bow_test = count_vect.transform(X_test)\n",
    "print(\"CV Data Size: \",bow_cv.shape)\n",
    "print(\"Test Data Size: \",bow_test.shape)"
   ]
  },
  {
   "cell_type": "code",
   "execution_count": 94,
   "metadata": {
    "colab": {
     "base_uri": "https://localhost:8080/"
    },
    "id": "Iqet8vUZTbtS",
    "outputId": "3e3bfe32-adc1-4d20-caf8-86ba371d2de2"
   },
   "outputs": [
    {
     "name": "stdout",
     "output_type": "stream",
     "text": [
      "The shape of out text BOW vectorizer  (7846, 61280)\n",
      "CV Data Size:  (1962, 61280)\n",
      "Test Data Size:  (4832, 61280)\n"
     ]
    }
   ],
   "source": [
    "# Normalizing bow data for effective model training\n",
    "from sklearn import preprocessing\n",
    "from sklearn.preprocessing import Normalizer\n",
    "bow_train=preprocessing.normalize(bow_train)\n",
    "bow_cv=preprocessing.normalize(bow_cv)\n",
    "bow_test=preprocessing.normalize(bow_test)\n",
    "print(\"The shape of out text BOW vectorizer \",bow_train.get_shape())\n",
    "print(\"CV Data Size: \",bow_cv.shape)\n",
    "print(\"Test Data Size: \",bow_test.shape)"
   ]
  },
  {
   "cell_type": "code",
   "execution_count": 95,
   "metadata": {
    "colab": {
     "base_uri": "https://localhost:8080/",
     "height": 785
    },
    "id": "rMw41szzT3ll",
    "outputId": "f80114a8-5d3c-476e-a682-4b8c3bb5057c"
   },
   "outputs": [
    {
     "name": "stdout",
     "output_type": "stream",
     "text": [
      "100  ------>  0.7748615206430086\n",
      "50  ------>  0.7976391556254141\n",
      "10  ------>  0.8382559091101943\n",
      "5  ------>  0.8510010520891678\n",
      "1  ------>  0.8764000756442906\n",
      "0.5  ------>  0.8856632899233131\n",
      "0.1  ------>  0.8964438953236621\n",
      "0.05  ------>  0.8951390726101858\n",
      "0.01  ------>  0.8874348809569604\n",
      "0.005  ------>  0.883453641829448\n",
      "\n",
      " Best alpha Value is 0.1 with highest roc_auc Score 0.8964438953236621\n"
     ]
    },
    {
     "data": {
      "image/png": "[encoded data removed]",
      "text/plain": [
       "<Figure size 432x288 with 1 Axes>"
      ]
     },
     "metadata": {},
     "output_type": "display_data"
    }
   ],
   "source": [
    "# Finding optimal value of alpha for count vectorization\n",
    "mulnb1(bow_train,bow_cv,Y_tr,Y_cv)"
   ]
  },
  {
   "cell_type": "code",
   "execution_count": 96,
   "metadata": {
    "colab": {
     "base_uri": "https://localhost:8080/",
     "height": 1000
    },
    "id": "dCPn_yICT3rZ",
    "outputId": "16f88fa2-c093-4cb2-d2de-76cd1cbf3a33"
   },
   "outputs": [
    {
     "name": "stdout",
     "output_type": "stream",
     "text": [
      "AUC Score 0.8831161617489123\n",
      "f1 score for data : 0.6949449713054892\n",
      "hamming loss for data: 0.26138245033112584\n",
      "Precision recall report for data:\n",
      "               precision    recall  f1-score   support\n",
      "\n",
      "           0       0.73      0.99      0.84      3049\n",
      "           1       0.73      0.27      0.39      1011\n",
      "           2       0.86      0.38      0.53       772\n",
      "\n",
      "    accuracy                           0.74      4832\n",
      "   macro avg       0.77      0.54      0.59      4832\n",
      "weighted avg       0.75      0.74      0.69      4832\n",
      "\n"
     ]
    },
    {
     "data": {
      "image/png": "[encoded data removed]",
      "text/plain": [
       "<Figure size 720x720 with 2 Axes>"
      ]
     },
     "metadata": {},
     "output_type": "display_data"
    }
   ],
   "source": [
    "# optimal_alpha=0.05\n",
    "testing1(bow_train,Y_tr,bow_test,Y_test,optimal_alpha=0.1)"
   ]
  },
  {
   "cell_type": "markdown",
   "metadata": {},
   "source": [
    "# <font style=\"font-family: 'Times New Roman';font-size:35px\"> TF-IDF Vectorization </font>"
   ]
  },
  {
   "cell_type": "code",
   "execution_count": 97,
   "metadata": {
    "colab": {
     "base_uri": "https://localhost:8080/"
    },
    "id": "FPqcTDwRT3j8",
    "outputId": "909bdf3f-ca23-43ce-8d57-61207b8bba3d"
   },
   "outputs": [
    {
     "name": "stdout",
     "output_type": "stream",
     "text": [
      "some sample features(unique words in the corpus) ['brisk', 'brisk boston', 'british_airways', 'british_airways try', 'british_airways week', 'brittany', 'brittany love', 'brizzyberg27', 'brizzyberg27 miss', 'bro']\n",
      "The type of count vectorizer  <class 'scipy.sparse.csr.csr_matrix'>\n",
      "The shape of out text TFIDF vectorizer  (7846, 61280)\n",
      "CV Data Size:  (1962, 61280)\n",
      "Test Data Size:  (4832, 61280)\n"
     ]
    }
   ],
   "source": [
    "# TF-IDF Vectorization with unigrams and bigrams\n",
    "tf_idf_vect = TfidfVectorizer(ngram_range=(1,2))\n",
    "tfidf_train = tf_idf_vect.fit_transform(X_tr)\n",
    "features = tf_idf_vect.get_feature_names()\n",
    "print(\"some sample features(unique words in the corpus)\",features[10000:10010])                                                              \n",
    "print(\"The type of count vectorizer \",type(tfidf_train))\n",
    "print(\"The shape of out text TFIDF vectorizer \",tfidf_train.get_shape())\n",
    "tfidf_cv = tf_idf_vect.transform(X_cv)\n",
    "tfidf_test = tf_idf_vect.transform(X_test)\n",
    "print(\"CV Data Size: \",tfidf_cv.shape)\n",
    "print(\"Test Data Size: \",tfidf_test.shape)"
   ]
  },
  {
   "cell_type": "code",
   "execution_count": 98,
   "metadata": {
    "colab": {
     "base_uri": "https://localhost:8080/"
    },
    "id": "NsWish_2TboA",
    "outputId": "51ea8f28-7e8b-4357-b84e-d911ccc60d8d"
   },
   "outputs": [
    {
     "name": "stdout",
     "output_type": "stream",
     "text": [
      "The shape of out text BOW vectorizer  (7846, 61280)\n",
      "CV Data Size:  (1962, 61280)\n",
      "Test Data Size:  (4832, 61280)\n"
     ]
    }
   ],
   "source": [
    "# Normalizing data for effective model training\n",
    "from sklearn import preprocessing\n",
    "from sklearn.preprocessing import Normalizer\n",
    "tfidf_train=preprocessing.normalize(tfidf_train)\n",
    "tfidf_cv=preprocessing.normalize(tfidf_cv)\n",
    "tfidf_test=preprocessing.normalize(tfidf_test)\n",
    "print(\"The shape of out text BOW vectorizer \",tfidf_train.get_shape())\n",
    "print(\"CV Data Size: \",tfidf_cv.shape)\n",
    "print(\"Test Data Size: \",tfidf_test.shape)"
   ]
  },
  {
   "cell_type": "code",
   "execution_count": 99,
   "metadata": {
    "colab": {
     "base_uri": "https://localhost:8080/",
     "height": 785
    },
    "id": "9QwgvjOOt39t",
    "outputId": "83aadb4e-ea94-48c1-a677-19687acd0390"
   },
   "outputs": [
    {
     "name": "stdout",
     "output_type": "stream",
     "text": [
      "100  ------>  0.8214211491385803\n",
      "50  ------>  0.8294651576463294\n",
      "10  ------>  0.8513544938057892\n",
      "5  ------>  0.8611213622497774\n",
      "1  ------>  0.8821028649167114\n",
      "0.5  ------>  0.8886558311269014\n",
      "0.1  ------>  0.8910434959669913\n",
      "0.05  ------>  0.886872489083515\n",
      "0.01  ------>  0.8754568415719151\n",
      "0.005  ------>  0.8708224657619723\n",
      "\n",
      " Best alpha Value is 0.1 with highest roc_auc Score 0.8910434959669913\n"
     ]
    },
    {
     "data": {
      "image/png": "[encoded data removed]",
      "text/plain": [
       "<Figure size 432x288 with 1 Axes>"
      ]
     },
     "metadata": {},
     "output_type": "display_data"
    }
   ],
   "source": [
    "# Finding optimal_alpha for tfidf vectorization\n",
    "mulnb(tfidf_train,tfidf_cv,Y_tr,Y_cv)"
   ]
  },
  {
   "cell_type": "code",
   "execution_count": 100,
   "metadata": {
    "colab": {
     "base_uri": "https://localhost:8080/",
     "height": 1000
    },
    "id": "J_x5q-qKV97f",
    "outputId": "dd99cbbd-63c3-4c54-ba17-7f62e966a5a5"
   },
   "outputs": [
    {
     "name": "stdout",
     "output_type": "stream",
     "text": [
      "AUC Score 0.8764441611592055\n",
      "f1 score for data : 0.7056425884126497\n",
      "Hamming loss for data: 0.2574503311258278\n",
      "Precision recall report for data:\n",
      "               precision    recall  f1-score   support\n",
      "\n",
      "           0       0.74      0.97      0.84      3049\n",
      "           1       0.70      0.29      0.41      1011\n",
      "           2       0.82      0.42      0.56       772\n",
      "\n",
      "    accuracy                           0.74      4832\n",
      "   macro avg       0.75      0.56      0.60      4832\n",
      "weighted avg       0.74      0.74      0.71      4832\n",
      "\n"
     ]
    },
    {
     "data": {
      "image/png": "[encoded data removed]",
      "text/plain": [
       "<Figure size 720x720 with 2 Axes>"
      ]
     },
     "metadata": {},
     "output_type": "display_data"
    }
   ],
   "source": [
    "# Using optimal alpha=0.1 for testing\n",
    "testing(tfidf_train,Y_tr,tfidf_test,Y_test,optimal_alpha=0.1)"
   ]
  },
  {
   "cell_type": "code",
   "execution_count": 101,
   "metadata": {
    "colab": {
     "base_uri": "https://localhost:8080/",
     "height": 111
    },
    "id": "xm7-_uwbgswT",
    "outputId": "f02dc0d4-8b51-4179-fe87-79612837b02b"
   },
   "outputs": [
    {
     "data": {
      "text/html": [
       "<div>\n",
       "<style scoped>\n",
       "    .dataframe tbody tr th:only-of-type {\n",
       "        vertical-align: middle;\n",
       "    }\n",
       "\n",
       "    .dataframe tbody tr th {\n",
       "        vertical-align: top;\n",
       "    }\n",
       "\n",
       "    .dataframe thead th {\n",
       "        text-align: right;\n",
       "    }\n",
       "</style>\n",
       "<table border=\"1\" class=\"dataframe\">\n",
       "  <thead>\n",
       "    <tr style=\"text-align: right;\">\n",
       "      <th></th>\n",
       "      <th>Category</th>\n",
       "      <th>AUC Score</th>\n",
       "      <th>F1-Score</th>\n",
       "    </tr>\n",
       "  </thead>\n",
       "  <tbody>\n",
       "    <tr>\n",
       "      <th>0</th>\n",
       "      <td>BOW Vectorization</td>\n",
       "      <td>0.88</td>\n",
       "      <td>0.74</td>\n",
       "    </tr>\n",
       "    <tr>\n",
       "      <th>1</th>\n",
       "      <td>TF-IDF Vectorization</td>\n",
       "      <td>0.88</td>\n",
       "      <td>0.74</td>\n",
       "    </tr>\n",
       "  </tbody>\n",
       "</table>\n",
       "</div>"
      ],
      "text/plain": [
       "               Category  AUC Score  F1-Score\n",
       "0     BOW Vectorization       0.88      0.74\n",
       "1  TF-IDF Vectorization       0.88      0.74"
      ]
     },
     "metadata": {},
     "output_type": "display_data"
    }
   ],
   "source": [
    "# Displaying how the Multinomial Naive Bayes performed for both BOW and TF-IDF Vectorization\n",
    "from IPython.display import display\n",
    "# Intialising data of lists\n",
    "data = {'Category':['BOW Vectorization','TF-IDF Vectorization'],\n",
    "        'AUC Score':AUC,\n",
    "        'F1-Score':F1}\n",
    "df1 = pd.DataFrame(data)\n",
    " \n",
    "# Printing the output.\n",
    "display(df1)      "
   ]
  },
  {
   "cell_type": "markdown",
   "metadata": {},
   "source": [
    "# <font style=\"font-family: 'Times New Roman';font-size:35px\"> Testing the model </font>"
   ]
  },
  {
   "cell_type": "code",
   "execution_count": 102,
   "metadata": {
    "colab": {
     "base_uri": "https://localhost:8080/"
    },
    "id": "1tfD_C1z1bSi",
    "outputId": "bc0bb00b-9150-4680-f048-4fbee55f1774"
   },
   "outputs": [
    {
     "data": {
      "text/plain": [
       "0    9178\n",
       "1    3099\n",
       "2    2363\n",
       "Name: Sentiment, dtype: int64"
      ]
     },
     "execution_count": 102,
     "metadata": {},
     "output_type": "execute_result"
    }
   ],
   "source": [
    "df=pd.read_csv('Tweets.csv')\n",
    "# Setting the negative sentiments to 0, neutral to 1 and positive to 2 \n",
    "def partition(x):\n",
    "    if x =='negative':\n",
    "        return 0\n",
    "    elif x =='neutral':\n",
    "        return 1\n",
    "    elif x =='positive':\n",
    "        return 2\n",
    "actualSentiment = df['airline_sentiment']\n",
    "positiveNegative = actualSentiment.map(partition) \n",
    "df['Sentiment'] = positiveNegative\n",
    "df['Sentiment'].value_counts() "
   ]
  },
  {
   "cell_type": "code",
   "execution_count": 103,
   "metadata": {
    "colab": {
     "base_uri": "https://localhost:8080/"
    },
    "id": "t1mP3OK70p6E",
    "outputId": "376ae63a-858a-4558-b837-c96d306cb9c6"
   },
   "outputs": [
    {
     "data": {
      "text/plain": [
       "MultinomialNB()"
      ]
     },
     "execution_count": 103,
     "metadata": {},
     "output_type": "execute_result"
    }
   ],
   "source": [
    "bnb=MultinomialNB()\n",
    "X = tf_idf_vect.transform(df['text'])\n",
    "y = df['Sentiment']\n",
    "# Splitting into train-test set\n",
    "from imblearn.combine import SMOTETomek\n",
    "smtom = SMOTETomek(random_state=100)\n",
    "X_smtom,y_smtom = smtom.fit_resample(X,y)\n",
    "X_train, X_test, Y_train, Y_test = train_test_split(X_smtom, y_smtom, test_size=.2, random_state=0)\n",
    "bnb.fit(X_train,Y_train)"
   ]
  },
  {
   "cell_type": "code",
   "execution_count": 104,
   "metadata": {},
   "outputs": [
    {
     "name": "stdout",
     "output_type": "stream",
     "text": [
      "Positive\n"
     ]
    }
   ],
   "source": [
    "sample_text = ('The flight journey was great.Everything was good about it.')\n",
    "k=tf_idf_vect.transform([sample_text])\n",
    "result = bnb.predict(k)\n",
    "if result[0] == 0:\n",
    "    print(\"Negative\")\n",
    "elif result[0] == 1:\n",
    "    print(\"Neutral\")\n",
    "else:\n",
    "    print(\"Positive\")"
   ]
  },
  {
   "cell_type": "code",
   "execution_count": 105,
   "metadata": {
    "id": "A_vzXfqL3t-H"
   },
   "outputs": [
    {
     "name": "stdout",
     "output_type": "stream",
     "text": [
      "Negative\n"
     ]
    }
   ],
   "source": [
    "sample_text = ('The flight was pathetic and terrible.')\n",
    "k=tf_idf_vect.transform([sample_text])\n",
    "result = bnb.predict(k)\n",
    "if result[0] == 0:\n",
    "    print(\"Negative\")\n",
    "elif result[0] == 1:\n",
    "    print(\"Neutral\")\n",
    "else:\n",
    "    print(\"Positive\")"
   ]
  },
  {
   "cell_type": "code",
   "execution_count": 106,
   "metadata": {},
   "outputs": [
    {
     "name": "stdout",
     "output_type": "stream",
     "text": [
      "Neutral\n"
     ]
    }
   ],
   "source": [
    "sample_text = ('The flight was okay.')\n",
    "k=tf_idf_vect.transform([sample_text])\n",
    "result = bnb.predict(k)\n",
    "if result[0] == 0:\n",
    "    print(\"Negative\")\n",
    "elif result[0] == 1:\n",
    "    print(\"Neutral\")\n",
    "else:\n",
    "    print(\"Positive\")"
   ]
  },
  {
   "cell_type": "code",
   "execution_count": 107,
   "metadata": {},
   "outputs": [],
   "source": [
    "# Saving the tfidf model for further deployment\n",
    "import pickle\n",
    "with open('transform.pkl', 'wb') as file:\n",
    "      \n",
    "    # A new file will be created\n",
    "    pickle.dump(tf_idf_vect, file)"
   ]
  },
  {
   "cell_type": "code",
   "execution_count": 108,
   "metadata": {},
   "outputs": [],
   "source": [
    "# Saving the multinomial naive bayes model for further deployment\n",
    "with open('tsa.pkl', 'wb') as file:\n",
    "      \n",
    "    # A new file will be created\n",
    "    pickle.dump(bnb, file)"
   ]
  }
 ],
 "metadata": {
  "colab": {
   "collapsed_sections": [],
   "name": "Multinomial N.B Airline Sentiment Analysis Using BOW and TF-IDF for deployment.ipynb",
   "provenance": [],
   "toc_visible": true
  },
  "kernelspec": {
   "display_name": "Python 3",
   "language": "python",
   "name": "python3"
  },
  "language_info": {
   "codemirror_mode": {
    "name": "ipython",
    "version": 3
   },
   "file_extension": ".py",
   "mimetype": "text/x-python",
   "name": "python",
   "nbconvert_exporter": "python",
   "pygments_lexer": "ipython3",
   "version": "3.8.10"
  }
 },
 "nbformat": 4,
 "nbformat_minor": 1
}
